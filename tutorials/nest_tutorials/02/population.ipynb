{
 "cells": [
  {
   "cell_type": "code",
   "execution_count": 1,
   "metadata": {},
   "outputs": [
    {
     "name": "stdout",
     "output_type": "stream",
     "text": [
      "\n",
      "              -- N E S T --\n",
      "  Copyright (C) 2004 The NEST Initiative\n",
      "\n",
      " Version: 3.8.0\n",
      " Built: Aug  5 2024 04:43:36\n",
      "\n",
      " This program is provided AS IS and comes with\n",
      " NO WARRANTY. See the file LICENSE for details.\n",
      "\n",
      " Problems or suggestions?\n",
      "   Visit https://www.nest-simulator.org\n",
      "\n",
      " Type 'nest.help()' to find out more about NEST.\n",
      "\n"
     ]
    }
   ],
   "source": [
    "\n",
    "import matplotlib.pyplot as plt\n",
    "import nest"
   ]
  },
  {
   "cell_type": "code",
   "execution_count": 2,
   "metadata": {},
   "outputs": [],
   "source": [
    "\n",
    "nest.ResetKernel()"
   ]
  },
  {
   "cell_type": "code",
   "execution_count": 3,
   "metadata": {},
   "outputs": [],
   "source": [
    "pop1 = nest.Create(\"iaf_psc_alpha\", 10, {\"I_e\": 376.0})\n",
    "pop2 = nest.Create(\"iaf_psc_alpha\", 10)\n",
    "multimeters = nest.Create(\"multimeter\", 10, {\"record_from\": [\"V_m\"]})\n",
    "\n",
    "# Record to file\n",
    "recdict = {\"record_to\" : \"ascii\", \"label\" : \"epop_mp\"}\n",
    "mm1 = nest.Create(\"multimeter\", params=recdict)\n"
   ]
  },
  {
   "cell_type": "code",
   "execution_count": 4,
   "metadata": {},
   "outputs": [],
   "source": [
    "nest.Connect(pop1, pop2, syn_spec={\"weight\":20.0})\n",
    "# nest.Connect(pop1, pop2, \"one_to_one\", syn_spec={\"weight\":20.0, \"delay\":1.0})\n",
    "# nest.Connect(pop1, pop2, {\"rule\": \"fixed_indegree\", \"indegree\": 20}, syn_spec={\"weight\":20.0, \"delay\":1.0}) # random\n",
    "\n",
    "nest.Connect(multimeters, pop2, \"one_to_one\")\n"
   ]
  },
  {
   "cell_type": "code",
   "execution_count": 5,
   "metadata": {},
   "outputs": [
    {
     "name": "stdout",
     "output_type": "stream",
     "text": [
      "\n",
      "Aug 20 09:16:34 NodeManager::prepare_nodes [Info]: \n",
      "    Preparing 30 nodes for simulation.\n",
      "\n",
      "Aug 20 09:16:34 SimulationManager::start_updating_ [Info]: \n",
      "    Number of local nodes: 30\n",
      "    Simulation time (ms): 1000\n",
      "    Number of OpenMP threads: 1\n",
      "    Not using MPI\n",
      "\n",
      "Aug 20 09:16:34 SimulationManager::run [Info]: \n",
      "    Simulation finished.\n"
     ]
    }
   ],
   "source": [
    "nest.Simulate(1000.0)"
   ]
  },
  {
   "cell_type": "code",
   "execution_count": null,
   "metadata": {},
   "outputs": [],
   "source": []
  }
 ],
 "metadata": {
  "kernelspec": {
   "display_name": "comp-neuro",
   "language": "python",
   "name": "python3"
  },
  "language_info": {
   "codemirror_mode": {
    "name": "ipython",
    "version": 3
   },
   "file_extension": ".py",
   "mimetype": "text/x-python",
   "name": "python",
   "nbconvert_exporter": "python",
   "pygments_lexer": "ipython3",
   "version": "3.12.5"
  }
 },
 "nbformat": 4,
 "nbformat_minor": 2
}
